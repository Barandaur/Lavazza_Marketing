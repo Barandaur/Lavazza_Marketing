{
 "cells": [
  {
   "cell_type": "markdown",
   "metadata": {},
   "source": [
    "# Introduction\n",
    "\n",
    "The project started with a 360-degree analysis of Lavazza brand. When performing the analysis, we were interested in all the initiatives that the company was pursuing, in how it was moving on the coffee market and beyond. In this sense, we realized that the brand is not just into the classic Italian espresso world.\n",
    "\n",
    "\n",
    "Italy is one of the homelands of coffee, there are dozens of brands that offer their customers coffee of all kinds, making coffee in general a unique and complex experience. This means as well that it is a somewhat saturated market, uneasy to improve and innovate if not through a broadening of the horizons.\n",
    "\n",
    "\n",
    "For this reason, the search for innovation and, even more, the search a combination of the classic coffee world with other worlds, seemingly unrelated, are the aspects that have intrigued us more about Lavazza. thus, we decided to look more deeply at what Lavazza was doing in that sense. \n",
    "\n",
    "\n",
    "One of the two initiatives from which we decided to take inspiration is the launch of the Lavazza Flagship store in 2017, which the vice-president [defined as follows](https://www.ilsole24ore.com/art/apre-lavazza-flagship-milano-caffe-360-gradi-AEiafBWC): «Ours is a gastronomic café with both sweet and savoury food offerings, which embraces all the moments of the day, from breakfast to an aperitif ». The other is the [Lavazza training school](https://www.lavazza.it/it/chi-siamo/training-center.html), which aims at giving more expertise to people about the coffee world.\n",
    "\n",
    "\n",
    "The combination of these two initiatives and the desire to make coffee a much more comprehensive experience has led Lavazza to propose cocktails that have coffee as their fundamental ingredient. The interest of the brand in insisting on this direction is hinted by several events, like the [cocktail-based celebration](https://www.mtmagazine.it/la-grande-mixology-celebra-il-primo-anno-della-nuvola-lavazza/) for the anniversary of the Nuvola Store opening, or the collaboration with Campari in 2019, accompanied by 3 cocktail proposals ([not necessarily coffee based](https://www.rollingstone.it/pop-life/news-rrstyle/lavazza-rivoluziona-laperitivo-con-i-nuovi-coffeetail-e-gli-inediti-cocktail-firmati-campari/464363/))  created by Campari experts together with Lavazza’s ones.\n",
    "\n",
    "\n",
    "In general, the combination of coffee and an aperitif is not a utopia; as Carmine Lamorte, restaurant and mixology expert [writes](https://www.comunicaffe.it/il-futuro-del-beverage-laperitivo-al-caffe-ecco-ingredienti-e-abbinamenti/): «Coffee as an aperitif? Yes, if when proposing it we will consider some organoleptic aspects of this 360-degree versatile ingredient, used in many recipes for cooking, pastry, and mixology, with reference to the time after the meal. But now the peculiarity of coffee is also clear as an ingredient for aperitifs» \n",
    "Given these indications, we asked ourselves what a person would have to do today if he wanted to consume one of these proposals.\n",
    "\n",
    "\n",
    "One would mainly have 2 alternatives:  either go to the flagship store in Milan or the F.ICO store in Bologna; or search on the official Lavazza website for a recipe (with some difficulty in finding it), buy the numerous necessary ingredients at the supermarket and try to compose the cocktail by oneself. Not so easy. \n",
    "\n",
    "\n",
    "Given all of these, we thought about a value proposition that would allow Lavazza to walk through the door that it opened, with a clear offer and a complete strategy, becoming a pioneer in a coffee-not-coffee market, placing itself in forefront compared to other direct competitors in the world of coffee.\n",
    "\n",
    "\n",
    "**Note:**\n",
    "\n",
    "We focused our analysis on the italian market. Indeed, when launching a product, expecially a somewhat experimental one, it makes sense to start narrowly and then to expand. Generally speaking, such espansion can firstly happen in the same country, if there are other personas that are potential customers yet to reach. Thus, we considered this route of expansion for the scalability of the idea. Furthermore, we started from the italian market for several reasons, the most relevant one being that the flagship store, which is tightly related to the process we want to innovate, was built in Italy before than in other countries, so we decided to stay consistent with this marketing strategy from Lavazza"
   ]
  },
  {
   "cell_type": "markdown",
   "metadata": {},
   "source": [
    "### General formatting considerations:\n",
    "\n",
    "When there will be codes involved (e.g. for the Positioning Maps), we will **define the functions** in the first scenario in which we will need them; so, for example, if we have a section about our 3 personas, and for each persona we show the positioning maps, the functions used will be defined in the first Positioning Map section encountered.\n",
    "\n",
    "\n",
    "Also, in each notebook there will be an index distinguishing qualitative and coding bits, providing internal links to each.  **Path** and libraries will always be in the first cell of the first coding section"
   ]
  },
  {
   "cell_type": "markdown",
   "metadata": {},
   "source": [
    "# Roadmap\n",
    "\n",
    "- *Brand_Followers.db\n",
    ">\n",
    "> As for the db, to subset it we left just 'lavazzagroup' related information\n",
    ">\n",
    "- *0.5 Twitter Api* \n",
    "> It contains the scripts we used to download follower ids and info on them, as their liked pages and descriptions.\n",
    ">\n",
    "> It also contains some functions we used to make sure there weren't duplicates in our dataset\n",
    ">\n",
    "- *1.0 Personas and as-is Customer Journeys*\n",
    "> It contains a tf-idf analysis on lavazza's followers descriptions and on their liked pages. \n",
    ">\n",
    ">Then personas are identified and characterized, constructing some of their relevant current customer journeys and estimating their market size, using Facebook Api\n",
    ">\n",
    "- *2.0 Product idea, Customer Journeys, Competitors and Positioning Maps*\n",
    "> Here we will give a general description of our product, the needs it may solve, and how our personas might interface with it. \n",
    ">\n",
    ">Then we think about competitors, differentiating them among the personas, and build the positioning maps accordingly\n",
    ">\n",
    "- *2.5 PositioningMaps.pdf*\n",
    ">\n",
    "> It contains the images of the positioning maps, in case they do not come pre-displayed in the notebook\n",
    ">\n",
    "- *3.0 Product detailed, Marketing Strategy, Ethics and Privacy*\n",
    "> Here we will give more specifications about the product, also thanks to insights gained in 2.0. This will bring to an analysis on the relevance of customization based on the brand. \n",
    ">\n",
    ">Then we will propose our marketing plan, concluding with some thoughts about privacy and ethics "
   ]
  }
 ],
 "metadata": {
  "kernelspec": {
   "display_name": "Python 3",
   "language": "python",
   "name": "python3"
  },
  "language_info": {
   "codemirror_mode": {
    "name": "ipython",
    "version": 3
   },
   "file_extension": ".py",
   "mimetype": "text/x-python",
   "name": "python",
   "nbconvert_exporter": "python",
   "pygments_lexer": "ipython3",
   "version": "3.7.4"
  }
 },
 "nbformat": 4,
 "nbformat_minor": 2
}
